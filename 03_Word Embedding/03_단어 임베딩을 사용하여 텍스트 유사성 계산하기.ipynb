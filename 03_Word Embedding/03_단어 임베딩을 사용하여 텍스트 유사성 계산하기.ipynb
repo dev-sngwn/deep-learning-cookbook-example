{
 "cells": [
  {
   "cell_type": "markdown",
   "metadata": {},
   "source": [
    "# 단어 임베딩을 사용하여 텍스트 유사성 계산하기"
   ]
  },
  {
   "cell_type": "code",
   "execution_count": 2,
   "metadata": {},
   "outputs": [],
   "source": [
    "import gensim\n",
    "import numpy as np\n",
    "from sklearn.manifold import TSNE\n",
    "from sklearn import svm\n",
    "import matplotlib.pyplot as plt\n",
    "import random"
   ]
  },
  {
   "cell_type": "markdown",
   "metadata": {},
   "source": [
    "## 미리 학습된 단어 임베딩을 이용하여 단어 유사성 찾기"
   ]
  },
  {
   "cell_type": "markdown",
   "metadata": {},
   "source": [
    "### Load Word2Vec"
   ]
  },
  {
   "cell_type": "markdown",
   "metadata": {},
   "source": [
    "> 교재의 URL에서 다운받는 소스는 에러가 잦아 직접 다운로드 하는 것을 권장\n",
    "> - 압축을 푼 3.6GB의 'word2vec.bin' 파일을 소스 디렉토리에 배치한 후 아래 소스를 실행"
   ]
  },
  {
   "cell_type": "code",
   "execution_count": 3,
   "metadata": {},
   "outputs": [],
   "source": [
    "model = gensim.models.KeyedVectors.load('./word2vec.bin') #unicode 문제로 load_word2vec_format 사용하지 않음"
   ]
  },
  {
   "cell_type": "markdown",
   "metadata": {},
   "source": [
    "### 유사한 단어 찾기"
   ]
  },
  {
   "cell_type": "code",
   "execution_count": 4,
   "metadata": {},
   "outputs": [
    {
     "name": "stderr",
     "output_type": "stream",
     "text": [
      "C:\\Users\\ICPS\\AppData\\Local\\Continuum\\anaconda3\\envs\\RNN\\lib\\site-packages\\gensim\\matutils.py:737: FutureWarning: Conversion of the second argument of issubdtype from `int` to `np.signedinteger` is deprecated. In future, it will be treated as `np.int32 == np.dtype(int).type`.\n",
      "  if np.issubdtype(vec.dtype, np.int):\n"
     ]
    },
    {
     "data": {
      "text/plain": [
       "[('cappuccino', 0.6888186931610107),\n",
       " ('mocha', 0.6686208844184875),\n",
       " ('coffee', 0.6616826057434082),\n",
       " ('latte', 0.6536753177642822),\n",
       " ('caramel_macchiato', 0.6491268873214722),\n",
       " ('ristretto', 0.6485545635223389),\n",
       " ('espressos', 0.6438628435134888),\n",
       " ('macchiato', 0.6428250074386597),\n",
       " ('chai_latte', 0.6308028697967529),\n",
       " ('espresso_cappuccino', 0.6280542612075806)]"
      ]
     },
     "execution_count": 4,
     "metadata": {},
     "output_type": "execute_result"
    }
   ],
   "source": [
    "model.most_similar(positive = ['espresso'])"
   ]
  },
  {
   "cell_type": "markdown",
   "metadata": {},
   "source": [
    "## Word2vec 수학"
   ]
  },
  {
   "cell_type": "markdown",
   "metadata": {},
   "source": [
    "### \"When A->B, C->?\" 함수 작성"
   ]
  },
  {
   "cell_type": "code",
   "execution_count": 5,
   "metadata": {},
   "outputs": [],
   "source": [
    "def A_is_to_B_as_C_is_to(a, b, c, topn = 1): # topn : 상위 N개 단어 검색 (Top N)\n",
    "    a, b, c = map(lambda x:x if type(x) == list else [x], (a, b, c))\n",
    "    res = model.most_similar(positive=b + c, negative=a, topn=topn)\n",
    "    \n",
    "    if len(res):\n",
    "        if topn == 1:\n",
    "            return res[0][0]\n",
    "        return [x[0] for x in res]\n",
    "    return None"
   ]
  },
  {
   "cell_type": "markdown",
   "metadata": {},
   "source": [
    "### 함수 활용"
   ]
  },
  {
   "cell_type": "code",
   "execution_count": 6,
   "metadata": {},
   "outputs": [
    {
     "name": "stderr",
     "output_type": "stream",
     "text": [
      "C:\\Users\\ICPS\\AppData\\Local\\Continuum\\anaconda3\\envs\\RNN\\lib\\site-packages\\gensim\\matutils.py:737: FutureWarning: Conversion of the second argument of issubdtype from `int` to `np.signedinteger` is deprecated. In future, it will be treated as `np.int32 == np.dtype(int).type`.\n",
      "  if np.issubdtype(vec.dtype, np.int):\n"
     ]
    },
    {
     "data": {
      "text/plain": [
       "'queen'"
      ]
     },
     "execution_count": 6,
     "metadata": {},
     "output_type": "execute_result"
    }
   ],
   "source": [
    "A_is_to_B_as_C_is_to('man', 'woman', 'king')"
   ]
  },
  {
   "cell_type": "code",
   "execution_count": 7,
   "metadata": {},
   "outputs": [
    {
     "name": "stderr",
     "output_type": "stream",
     "text": [
      "C:\\Users\\ICPS\\AppData\\Local\\Continuum\\anaconda3\\envs\\RNN\\lib\\site-packages\\gensim\\matutils.py:737: FutureWarning: Conversion of the second argument of issubdtype from `int` to `np.signedinteger` is deprecated. In future, it will be treated as `np.int32 == np.dtype(int).type`.\n",
      "  if np.issubdtype(vec.dtype, np.int):\n"
     ]
    },
    {
     "name": "stdout",
     "output_type": "stream",
     "text": [
      "Rome is the capital of Italy\n",
      "Paris is the capital of France\n",
      "Delhi is the capital of India\n",
      "Beijing is the capital of China\n"
     ]
    }
   ],
   "source": [
    "for country in 'Italy', 'France', 'India', 'China':\n",
    "    print('%s is the capital of %s' % (A_is_to_B_as_C_is_to(\"Germany\", \"Berlin\", country), country))"
   ]
  },
  {
   "cell_type": "code",
   "execution_count": 8,
   "metadata": {},
   "outputs": [
    {
     "name": "stderr",
     "output_type": "stream",
     "text": [
      "C:\\Users\\ICPS\\AppData\\Local\\Continuum\\anaconda3\\envs\\RNN\\lib\\site-packages\\gensim\\matutils.py:737: FutureWarning: Conversion of the second argument of issubdtype from `int` to `np.signedinteger` is deprecated. In future, it will be treated as `np.int32 == np.dtype(int).type`.\n",
      "  if np.issubdtype(vec.dtype, np.int):\n"
     ]
    },
    {
     "name": "stdout",
     "output_type": "stream",
     "text": [
      "Google -> personalized_homepage, app, Gmail\n",
      "IBM -> DB2, WebSphere_Portal, Tamino_XML_Server\n",
      "Boeing -> Dreamliner, airframe, aircraft\n",
      "Microsoft -> Windows_Mobile, SyncMate, Windows\n",
      "Samsung -> MM_A###, handset, Samsung_SCH_B###\n"
     ]
    }
   ],
   "source": [
    "for company in 'Google', 'IBM', 'Boeing', 'Microsoft', 'Samsung':\n",
    "    products = A_is_to_B_as_C_is_to(\n",
    "        ['Starbucks', 'Apple'],\n",
    "        ['Starbucks_coffee', 'iPhone'],\n",
    "        company,\n",
    "        topn=3\n",
    "    )\n",
    "    print(\"%s -> %s\" % (company, ', '.join(products)))"
   ]
  },
  {
   "cell_type": "markdown",
   "metadata": {},
   "source": [
    "## 단어 임베딩 시각화"
   ]
  },
  {
   "cell_type": "markdown",
   "metadata": {},
   "source": [
    "### 임베딩 차원 축소 (t-SNE)"
   ]
  },
  {
   "cell_type": "markdown",
   "metadata": {},
   "source": [
    "> t-SNE 알고리즘을 사용하여 고차원 공간을 2차원으로 축소한다. (t-distributed Stochastic Neighbor Embedding)"
   ]
  },
  {
   "cell_type": "code",
   "execution_count": 9,
   "metadata": {},
   "outputs": [
    {
     "data": {
      "text/plain": [
       "['espresso',\n",
       " 'beer',\n",
       " 'vodka',\n",
       " 'wine',\n",
       " 'cola',\n",
       " 'tea',\n",
       " 'Italy',\n",
       " 'France',\n",
       " 'India',\n",
       " 'China',\n",
       " 'Germany',\n",
       " 'Russia',\n",
       " 'USA',\n",
       " 'soccer',\n",
       " 'handball',\n",
       " 'hockey',\n",
       " 'cycling',\n",
       " 'basketball',\n",
       " 'cricket',\n",
       " 'table',\n",
       " 'chair',\n",
       " 'board',\n",
       " 'pen',\n",
       " 'pencil',\n",
       " 'eraser',\n",
       " 'television',\n",
       " 'computer']"
      ]
     },
     "execution_count": 9,
     "metadata": {},
     "output_type": "execute_result"
    }
   ],
   "source": [
    "beverages = ['espresso', 'beer', 'vodka', 'wine', 'cola', 'tea']\n",
    "countries = ['Italy', 'France', 'India', 'China', 'Germany', 'Russia', 'USA']\n",
    "sports = ['soccer', 'handball', 'hockey', 'cycling', 'basketball', 'cricket']\n",
    "classroom = ['table', 'chair', 'board', 'pen', 'pencil', 'eraser', 'television', 'computer']\n",
    "\n",
    "items = beverages + countries + sports + classroom\n",
    "\n",
    "items"
   ]
  },
  {
   "cell_type": "code",
   "execution_count": 10,
   "metadata": {},
   "outputs": [
    {
     "data": {
      "text/plain": [
       "[('espresso',\n",
       "  array([-0.19628906, -0.38476562, -0.15820312,  0.578125  ,  0.0022583 ,\n",
       "          0.13476562,  0.265625  , -0.27539062,  0.16699219,  0.62890625,\n",
       "         -0.02099609, -0.06738281,  0.3125    , -0.22070312,  0.25976562,\n",
       "          0.171875  , -0.27539062,  0.13378906,  0.2734375 , -0.18554688,\n",
       "         -0.25390625,  0.15820312,  0.05249023, -0.49804688, -0.1484375 ,\n",
       "          0.13378906, -0.25390625,  0.35351562, -0.14550781, -0.07519531,\n",
       "          0.09765625, -0.05200195,  0.08691406,  0.09277344, -0.24511719,\n",
       "         -0.28710938,  0.09033203, -0.19726562,  0.03442383,  0.19433594,\n",
       "          0.12890625, -0.09814453,  0.02355957,  0.07861328, -0.08154297,\n",
       "         -0.06347656, -0.31640625, -0.20605469,  0.27929688,  0.21679688,\n",
       "         -0.11425781,  0.42382812, -0.26367188, -0.20898438, -0.05419922,\n",
       "          0.10644531,  0.23925781,  0.265625  , -0.4609375 , -0.33789062,\n",
       "         -0.20898438, -0.13378906, -0.16699219, -0.01538086,  0.20019531,\n",
       "         -0.18457031, -0.31835938, -0.4375    ,  0.015625  ,  0.06030273,\n",
       "          0.1875    ,  0.03955078,  0.04223633,  0.06933594, -0.36132812,\n",
       "          0.13574219, -0.03271484, -0.09277344,  0.05200195, -0.20800781,\n",
       "         -0.0456543 ,  0.12792969, -0.10107422,  0.04003906, -0.0703125 ,\n",
       "          0.14257812,  0.33398438,  0.45507812,  0.22265625, -0.0703125 ,\n",
       "         -0.234375  ,  0.05639648,  0.13769531,  0.08789062, -0.16992188,\n",
       "         -0.28125   , -0.18652344, -0.12207031,  0.359375  , -0.21875   ,\n",
       "          0.07275391,  0.0324707 , -0.12890625,  0.30273438,  0.22851562,\n",
       "         -0.05615234,  0.16210938,  0.07568359,  0.10986328,  0.03149414,\n",
       "         -0.06738281, -0.16992188, -0.26171875, -0.24414062, -0.24804688,\n",
       "         -0.15527344, -0.17773438, -0.01013184, -0.05664062, -0.22460938,\n",
       "          0.02160645,  0.00506592, -0.00415039,  0.13574219,  0.22265625,\n",
       "          0.10595703, -0.40625   , -0.03015137,  0.05371094,  0.27539062,\n",
       "         -0.19042969,  0.03149414, -0.04321289, -0.03295898, -0.00817871,\n",
       "          0.17089844,  0.11083984,  0.09130859,  0.11621094, -0.11035156,\n",
       "          0.13574219, -0.37109375, -0.453125  , -0.01708984, -0.06933594,\n",
       "         -0.18847656,  0.15917969,  0.1015625 , -0.11865234,  0.22167969,\n",
       "          0.04101562,  0.19726562, -0.03979492, -0.12695312,  0.45117188,\n",
       "          0.10107422, -0.07324219,  0.01489258, -0.45898438,  0.25195312,\n",
       "         -0.125     , -0.24804688, -0.04418945,  0.11181641,  0.16601562,\n",
       "         -0.03442383,  0.34375   , -0.15429688,  0.12109375, -0.203125  ,\n",
       "         -0.06298828, -0.04345703, -0.17480469, -0.21386719, -0.43554688,\n",
       "          0.046875  , -0.07714844, -0.24707031, -0.17480469,  0.01043701,\n",
       "          0.0625    , -0.07861328, -0.26757812, -0.31640625,  0.38671875,\n",
       "         -0.15234375,  0.01074219,  0.18359375, -0.10986328, -0.16796875,\n",
       "          0.06933594,  0.21191406,  0.02905273,  0.09863281,  0.10058594,\n",
       "          0.22167969,  0.18652344, -0.16699219, -0.08544922,  0.14746094,\n",
       "         -0.00454712,  0.10546875,  0.1171875 , -0.07666016,  0.30273438,\n",
       "         -0.15625   , -0.11328125,  0.02441406, -0.19726562, -0.359375  ,\n",
       "         -0.625     ,  0.37695312, -0.10107422,  0.29296875, -0.00361633,\n",
       "         -0.04321289, -0.18554688,  0.06176758, -0.16699219,  0.203125  ,\n",
       "          0.14941406,  0.12988281,  0.03039551, -0.21582031,  0.37890625,\n",
       "          0.21191406, -0.23144531,  0.18554688, -0.03979492,  0.03857422,\n",
       "         -0.03442383,  0.03295898, -0.33398438,  0.28125   ,  0.26953125,\n",
       "         -0.10107422,  0.17773438,  0.28320312,  0.09326172, -0.0612793 ,\n",
       "          0.29296875, -0.03686523, -0.01385498,  0.14941406,  0.17578125,\n",
       "         -0.03295898, -0.19042969,  0.14550781,  0.0168457 , -0.24902344,\n",
       "         -0.10449219,  0.32226562,  0.47851562, -0.00582886,  0.01409912,\n",
       "         -0.19921875,  0.20800781, -0.38867188, -0.06054688,  0.09423828,\n",
       "          0.05932617,  0.36328125, -0.22460938,  0.23925781,  0.0625    ,\n",
       "         -0.10253906,  0.13085938, -0.02893066, -0.5390625 , -0.31835938,\n",
       "          0.06738281,  0.02807617, -0.20019531,  0.16503906,  0.02307129,\n",
       "          0.31835938, -0.12255859, -0.20019531,  0.15332031,  0.2734375 ,\n",
       "         -0.12304688, -0.18164062,  0.32226562,  0.28710938, -0.30273438,\n",
       "          0.05444336,  0.03637695, -0.11328125, -0.01696777,  0.29492188,\n",
       "          0.08398438, -0.203125  , -0.22558594, -0.03393555, -0.03466797,\n",
       "          0.02038574,  0.10986328,  0.09130859,  0.14355469,  0.39648438],\n",
       "        dtype=float32)),\n",
       " ('beer',\n",
       "  array([-0.08740234, -0.13378906, -0.04492188,  0.37109375, -0.20898438,\n",
       "          0.07861328,  0.34960938, -0.21972656,  0.22460938,  0.24414062,\n",
       "          0.19042969, -0.41796875,  0.07666016,  0.16601562, -0.15625   ,\n",
       "          0.16113281, -0.08496094,  0.40429688,  0.23144531, -0.421875  ,\n",
       "          0.15332031,  0.24121094,  0.0255127 , -0.47265625, -0.03588867,\n",
       "          0.13378906, -0.08642578,  0.45898438,  0.09423828,  0.26367188,\n",
       "          0.04003906, -0.04833984,  0.15429688,  0.17675781, -0.08398438,\n",
       "         -0.04321289,  0.16796875, -0.28710938,  0.3125    ,  0.18164062,\n",
       "         -0.19433594, -0.28320312,  0.20996094,  0.11767578, -0.265625  ,\n",
       "         -0.07568359, -0.265625  , -0.12304688, -0.03271484, -0.21777344,\n",
       "         -0.31445312, -0.14355469, -0.05102539,  0.00665283, -0.17773438,\n",
       "         -0.15429688, -0.09716797,  0.0625    , -0.01928711, -0.07226562,\n",
       "         -0.10107422,  0.00698853, -0.25390625, -0.10253906, -0.04370117,\n",
       "         -0.234375  , -0.09619141, -0.34375   ,  0.12792969, -0.03295898,\n",
       "          0.23046875,  0.16601562,  0.31445312, -0.05761719, -0.14550781,\n",
       "         -0.02478027, -0.16601562,  0.15332031,  0.17285156, -0.51171875,\n",
       "         -0.15722656, -0.51953125, -0.08496094, -0.06689453, -0.07324219,\n",
       "         -0.10302734,  0.05273438,  0.36328125,  0.12988281, -0.11230469,\n",
       "         -0.25      ,  0.24609375,  0.11035156, -0.09179688, -0.07763672,\n",
       "          0.21289062,  0.04882812,  0.03613281, -0.03710938, -0.14550781,\n",
       "         -0.04492188,  0.1953125 ,  0.28125   ,  0.140625  ,  0.26171875,\n",
       "         -0.16601562,  0.24023438, -0.04467773, -0.328125  , -0.07714844,\n",
       "          0.0625    , -0.21777344, -0.25585938, -0.296875  , -0.11425781,\n",
       "         -0.0625    ,  0.12988281, -0.08447266, -0.03344727, -0.1953125 ,\n",
       "         -0.40820312, -0.15820312, -0.03540039, -0.2890625 , -0.08203125,\n",
       "         -0.00263977,  0.19726562, -0.01818848, -0.14257812, -0.15527344,\n",
       "         -0.20214844,  0.05224609, -0.18066406, -0.14941406, -0.16015625,\n",
       "          0.390625  ,  0.20605469, -0.13769531,  0.08984375, -0.04614258,\n",
       "          0.06982422, -0.17285156, -0.1875    , -0.14746094, -0.328125  ,\n",
       "          0.00570679,  0.21191406, -0.09375   , -0.19238281,  0.13964844,\n",
       "          0.203125  ,  0.1640625 , -0.01965332, -0.19238281, -0.0559082 ,\n",
       "          0.11035156, -0.00457764, -0.00537109, -0.44726562, -0.06079102,\n",
       "         -0.02844238, -0.19433594,  0.22851562,  0.15722656,  0.12792969,\n",
       "          0.06591797,  0.06298828,  0.16894531, -0.09082031, -0.24414062,\n",
       "         -0.140625  , -0.10888672,  0.22070312, -0.05786133, -0.32617188,\n",
       "          0.00665283,  0.12597656,  0.00585938, -0.28515625,  0.06787109,\n",
       "          0.14453125, -0.24414062, -0.1484375 ,  0.03320312,  0.05102539,\n",
       "         -0.01599121,  0.21582031,  0.27148438,  0.20507812, -0.15917969,\n",
       "          0.02209473,  0.11816406, -0.11181641,  0.22460938, -0.06201172,\n",
       "          0.24316406,  0.19140625, -0.08105469, -0.12792969, -0.18652344,\n",
       "         -0.15429688,  0.08398438,  0.01818848, -0.00218201,  0.06494141,\n",
       "         -0.03320312,  0.19921875, -0.05273438, -0.11523438,  0.20117188,\n",
       "         -0.29296875,  0.06982422, -0.00970459,  0.17480469, -0.08984375,\n",
       "         -0.17871094, -0.17578125,  0.07958984,  0.00125122,  0.20214844,\n",
       "         -0.13476562, -0.43359375,  0.08642578, -0.28710938,  0.31054688,\n",
       "          0.03662109, -0.03417969,  0.15136719,  0.12597656,  0.1953125 ,\n",
       "         -0.24023438, -0.00479126, -0.35742188,  0.38476562,  0.04492188,\n",
       "         -0.25976562,  0.12695312, -0.09228516,  0.07080078, -0.06298828,\n",
       "          0.19921875,  0.07373047, -0.24707031,  0.13671875, -0.02392578,\n",
       "         -0.13183594, -0.03735352,  0.13867188, -0.11425781, -0.08886719,\n",
       "          0.16113281, -0.0546875 ,  0.21777344,  0.10791016, -0.01367188,\n",
       "          0.140625  ,  0.05224609,  0.26367188, -0.234375  , -0.14355469,\n",
       "         -0.16210938, -0.078125  , -0.00286865,  0.2578125 ,  0.0402832 ,\n",
       "         -0.07910156, -0.15332031, -0.04492188, -0.18359375, -0.09814453,\n",
       "          0.00072861,  0.04125977, -0.125     ,  0.22167969,  0.21191406,\n",
       "          0.00080872, -0.24511719, -0.04150391, -0.10253906, -0.02978516,\n",
       "          0.03759766, -0.10693359,  0.31835938,  0.09228516, -0.0177002 ,\n",
       "         -0.04882812,  0.05102539,  0.29492188, -0.02148438,  0.19140625,\n",
       "          0.11181641, -0.14160156,  0.02819824, -0.04980469, -0.01660156,\n",
       "         -0.11425781,  0.19042969, -0.07421875,  0.20410156, -0.12011719],\n",
       "        dtype=float32)),\n",
       " ('vodka',\n",
       "  array([-0.05834961, -0.15429688, -0.04882812,  0.28125   , -0.02331543,\n",
       "          0.19335938,  0.34375   , -0.28710938,  0.296875  ,  0.20507812,\n",
       "          0.12890625, -0.34375   , -0.01470947,  0.12255859, -0.07568359,\n",
       "          0.00958252, -0.11035156,  0.19335938,  0.01831055, -0.390625  ,\n",
       "          0.38476562,  0.18847656,  0.16015625, -0.1953125 ,  0.04638672,\n",
       "          0.20996094, -0.40234375,  0.42773438, -0.0055542 ,  0.34375   ,\n",
       "         -0.11572266, -0.04125977,  0.08154297,  0.24316406, -0.09619141,\n",
       "         -0.03808594,  0.04980469, -0.20019531,  0.02807617, -0.00512695,\n",
       "         -0.00317383, -0.3828125 ,  0.19335938, -0.06787109,  0.02783203,\n",
       "         -0.28320312,  0.06640625, -0.203125  ,  0.18847656, -0.11669922,\n",
       "         -0.21777344,  0.20507812, -0.07910156, -0.09667969,  0.0189209 ,\n",
       "         -0.12792969,  0.06030273,  0.140625  , -0.29101562, -0.40234375,\n",
       "          0.16796875,  0.02893066, -0.01477051,  0.203125  ,  0.38476562,\n",
       "          0.01977539,  0.24902344, -0.4296875 ,  0.13769531, -0.04541016,\n",
       "         -0.06738281, -0.0135498 ,  0.10058594,  0.03198242, -0.19140625,\n",
       "          0.0703125 ,  0.03686523,  0.01953125,  0.22167969, -0.10986328,\n",
       "         -0.26171875, -0.5234375 , -0.16210938, -0.05932617, -0.04003906,\n",
       "          0.00643921,  0.18457031,  0.50390625,  0.08691406,  0.1640625 ,\n",
       "         -0.33984375,  0.03955078,  0.25390625, -0.29101562, -0.02600098,\n",
       "         -0.05639648, -0.17480469,  0.13085938,  0.26171875,  0.00921631,\n",
       "          0.09472656,  0.32617188,  0.26757812,  0.08349609,  0.37890625,\n",
       "         -0.35351562,  0.328125  ,  0.24804688, -0.17285156,  0.01544189,\n",
       "          0.00964355,  0.0177002 , -0.30664062, -0.28320312, -0.41015625,\n",
       "         -0.12158203,  0.04125977, -0.29882812,  0.00331116, -0.20703125,\n",
       "         -0.29882812, -0.01147461,  0.05566406, -0.12304688,  0.375     ,\n",
       "          0.11230469,  0.01226807, -0.20996094,  0.06054688,  0.15039062,\n",
       "         -0.2578125 ,  0.18847656, -0.00817871,  0.10302734, -0.0378418 ,\n",
       "          0.453125  ,  0.21484375,  0.09375   , -0.01068115, -0.04541016,\n",
       "          0.02392578, -0.2109375 , -0.29296875, -0.15722656, -0.06591797,\n",
       "          0.11474609,  0.07080078,  0.05175781, -0.5234375 ,  0.0234375 ,\n",
       "          0.41015625,  0.2578125 ,  0.1875    , -0.21191406,  0.1484375 ,\n",
       "          0.1015625 , -0.17382812, -0.04003906, -0.25976562,  0.10546875,\n",
       "         -0.17382812, -0.18945312,  0.02685547,  0.19238281,  0.22363281,\n",
       "         -0.00086212,  0.18066406,  0.27539062, -0.12011719,  0.0480957 ,\n",
       "         -0.21582031,  0.01208496,  0.2109375 , -0.08935547, -0.2578125 ,\n",
       "         -0.19824219,  0.01538086, -0.19433594, -0.27148438, -0.01000977,\n",
       "          0.37304688,  0.00270081, -0.328125  ,  0.109375  ,  0.14550781,\n",
       "          0.05371094,  0.2265625 ,  0.23925781,  0.07275391, -0.1796875 ,\n",
       "         -0.20507812, -0.05981445,  0.07519531,  0.09277344, -0.01367188,\n",
       "          0.20703125,  0.12597656, -0.01220703, -0.0043335 , -0.18457031,\n",
       "          0.0255127 ,  0.15136719,  0.21679688,  0.16601562, -0.25195312,\n",
       "         -0.0703125 ,  0.08789062,  0.21875   , -0.3203125 , -0.16796875,\n",
       "         -0.4296875 , -0.03540039, -0.01550293,  0.01312256, -0.19433594,\n",
       "          0.13378906, -0.06347656,  0.01013184,  0.20996094,  0.19042969,\n",
       "         -0.20410156, -0.07763672,  0.20507812,  0.03173828,  0.4140625 ,\n",
       "          0.17871094,  0.19140625,  0.18945312, -0.11669922,  0.2578125 ,\n",
       "         -0.1484375 , -0.02038574, -0.12988281,  0.07421875,  0.05126953,\n",
       "         -0.25585938, -0.21582031, -0.26757812,  0.22167969, -0.18359375,\n",
       "          0.23632812,  0.12988281, -0.09082031,  0.12011719,  0.37890625,\n",
       "         -0.02246094,  0.26757812,  0.18261719,  0.08447266,  0.03271484,\n",
       "         -0.03417969,  0.05712891,  0.46875   ,  0.17675781,  0.06347656,\n",
       "          0.17285156,  0.03808594,  0.03063965,  0.04101562, -0.20019531,\n",
       "         -0.06347656,  0.05029297,  0.00267029,  0.28710938,  0.12255859,\n",
       "         -0.09082031, -0.15332031, -0.11425781, -0.21679688, -0.13085938,\n",
       "          0.01989746,  0.02844238, -0.02368164,  0.24707031,  0.20800781,\n",
       "          0.01623535, -0.05200195,  0.02050781, -0.16210938,  0.25585938,\n",
       "         -0.06738281, -0.03637695,  0.3203125 , -0.13574219, -0.0111084 ,\n",
       "         -0.01794434, -0.17675781,  0.17480469,  0.05541992,  0.32226562,\n",
       "         -0.0246582 , -0.45898438, -0.08837891,  0.07421875, -0.04760742,\n",
       "         -0.1484375 ,  0.2890625 ,  0.21972656,  0.14453125,  0.04614258],\n",
       "        dtype=float32))]"
      ]
     },
     "execution_count": 10,
     "metadata": {},
     "output_type": "execute_result"
    }
   ],
   "source": [
    "item_vectors = [(item, model[item])\n",
    "                for item in items\n",
    "                if item in model]\n",
    "\n",
    "item_vectors[:3]"
   ]
  },
  {
   "cell_type": "code",
   "execution_count": 11,
   "metadata": {},
   "outputs": [
    {
     "name": "stdout",
     "output_type": "stream",
     "text": [
      "[t-SNE] Computing 26 nearest neighbors...\n",
      "[t-SNE] Indexed 27 samples in 0.001s...\n",
      "[t-SNE] Computed neighbors for 27 samples in 0.001s...\n",
      "[t-SNE] Computed conditional probabilities for sample 27 / 27\n",
      "[t-SNE] Mean sigma: 0.483122\n",
      "[t-SNE] Computed conditional probabilities in 0.001s\n",
      "[t-SNE] Iteration 50: error = 61.1669044, gradient norm = 0.4136071 (50 iterations in 0.013s)\n",
      "[t-SNE] Iteration 100: error = 59.1917267, gradient norm = 0.3634045 (50 iterations in 0.013s)\n",
      "[t-SNE] Iteration 150: error = 66.7926865, gradient norm = 0.2017357 (50 iterations in 0.012s)\n",
      "[t-SNE] Iteration 200: error = 65.4479752, gradient norm = 0.0790966 (50 iterations in 0.013s)\n",
      "[t-SNE] Iteration 250: error = 73.4920120, gradient norm = 0.2213003 (50 iterations in 0.013s)\n",
      "[t-SNE] KL divergence after 250 iterations with early exaggeration: 73.492012\n",
      "[t-SNE] Iteration 300: error = 1.3400612, gradient norm = 0.0012040 (50 iterations in 0.013s)\n",
      "[t-SNE] Iteration 350: error = 0.8956350, gradient norm = 0.0009940 (50 iterations in 0.012s)\n",
      "[t-SNE] Iteration 400: error = 0.7094986, gradient norm = 0.0005651 (50 iterations in 0.013s)\n",
      "[t-SNE] Iteration 450: error = 0.5754839, gradient norm = 0.0003478 (50 iterations in 0.012s)\n",
      "[t-SNE] Iteration 500: error = 0.4921094, gradient norm = 0.0004243 (50 iterations in 0.012s)\n",
      "[t-SNE] Iteration 550: error = 0.4179581, gradient norm = 0.0002739 (50 iterations in 0.012s)\n",
      "[t-SNE] Iteration 600: error = 0.3522976, gradient norm = 0.0003251 (50 iterations in 0.012s)\n",
      "[t-SNE] Iteration 650: error = 0.2646186, gradient norm = 0.0001889 (50 iterations in 0.013s)\n",
      "[t-SNE] Iteration 700: error = 0.2494128, gradient norm = 0.0001254 (50 iterations in 0.012s)\n",
      "[t-SNE] Iteration 750: error = 0.2355181, gradient norm = 0.0001069 (50 iterations in 0.012s)\n",
      "[t-SNE] Iteration 800: error = 0.2209195, gradient norm = 0.0000871 (50 iterations in 0.014s)\n",
      "[t-SNE] Iteration 850: error = 0.1720597, gradient norm = 0.0002318 (50 iterations in 0.013s)\n",
      "[t-SNE] Iteration 900: error = 0.1579871, gradient norm = 0.0001139 (50 iterations in 0.012s)\n",
      "[t-SNE] Iteration 950: error = 0.1500268, gradient norm = 0.0000484 (50 iterations in 0.012s)\n",
      "[t-SNE] Iteration 1000: error = 0.1478056, gradient norm = 0.0000295 (50 iterations in 0.012s)\n",
      "[t-SNE] Error after 1000 iterations: 0.147806\n"
     ]
    }
   ],
   "source": [
    "vectors = np.asarray([x[1] for x in item_vectors])\n",
    "lengths = np.linalg.norm(vectors, axis = 1)\n",
    "norm_vectors = (vectors.T / lengths).T\n",
    "tsne = TSNE(n_components=2, perplexity=10, verbose=2).fit_transform(norm_vectors)"
   ]
  },
  {
   "cell_type": "markdown",
   "metadata": {},
   "source": [
    "### 시각화"
   ]
  },
  {
   "cell_type": "code",
   "execution_count": 12,
   "metadata": {},
   "outputs": [
    {
     "data": {
      "image/png": "[encoded data removed]",
      "text/plain": [
       "<Figure size 432x288 with 1 Axes>"
      ]
     },
     "metadata": {},
     "output_type": "display_data"
    }
   ],
   "source": [
    "x = tsne[:,0]\n",
    "y = tsne[:,1]\n",
    "fig, ax = plt.subplots()\n",
    "ax.scatter(x, y)\n",
    "\n",
    "for item, x1, y1 in zip(item_vectors, x, y):\n",
    "    ax.annotate(item[0], (x1, y1), size = 10)\n",
    "    \n",
    "plt.show()"
   ]
  },
  {
   "cell_type": "markdown",
   "metadata": {},
   "source": [
    "## 임베딩에서 개체의 클래스 찾기"
   ]
  },
  {
   "cell_type": "markdown",
   "metadata": {},
   "source": [
    "### SVM을 사용한 분류기 작성"
   ]
  },
  {
   "cell_type": "code",
   "execution_count": 13,
   "metadata": {},
   "outputs": [
    {
     "data": {
      "text/plain": [
       "['Minister_Mark_Prisk', 'Speedus_Announces', 'Mendiola', 'Nakheel_bondholders']"
      ]
     },
     "execution_count": 13,
     "metadata": {},
     "output_type": "execute_result"
    }
   ],
   "source": [
    "positive = ['Chile', 'Mauritius', 'Barbados', 'Ukraine', 'Israel', 'Rwanda',\n",
    "            'Venezuela', 'Lithuania', 'Costa_Rica', 'Romania', 'Japan', 'Senegal',\n",
    "            'Canada', 'Malaysia', 'South_Korea', 'Australia', 'Tunisia', 'Armenia',\n",
    "            'China', 'Czech_Republic', 'Guinea', 'Gambia', 'Gabon', 'Italy',\n",
    "            'Montenegro', 'Guyana', 'Nicaragua', 'French_Guiana', 'Serbia',\n",
    "            'Uruguay', 'Ethiopia', 'USA', 'Samoa', 'Antarctica', 'Suriname',\n",
    "            'Finland', 'Bermuda', 'Cuba', 'Oman', 'Azerbaijan', 'Papua', 'France',\n",
    "            'Tanzania', 'Germany']\n",
    "\n",
    "negative = random.sample(model.vocab.keys(), 5000)\n",
    "negative[:4]"
   ]
  },
  {
   "cell_type": "code",
   "execution_count": 14,
   "metadata": {},
   "outputs": [],
   "source": [
    "labelled = [(p, 1) for p in positive] + [(n, 0) for n in negative]\n",
    "random.shuffle(labelled)\n",
    "X = np.asarray([model[w] for w, l in labelled])\n",
    "y = np.asarray([l for w, l in labelled])"
   ]
  },
  {
   "cell_type": "code",
   "execution_count": 15,
   "metadata": {},
   "outputs": [
    {
     "data": {
      "text/plain": [
       "SVC(C=1.0, cache_size=200, class_weight=None, coef0=0.0,\n",
       "  decision_function_shape='ovr', degree=3, gamma='auto', kernel='linear',\n",
       "  max_iter=-1, probability=False, random_state=None, shrinking=True,\n",
       "  tol=0.001, verbose=False)"
      ]
     },
     "execution_count": 15,
     "metadata": {},
     "output_type": "execute_result"
    }
   ],
   "source": [
    "TRAINING_FRACTION = 0.7\n",
    "cut_off = int(TRAINING_FRACTION * len(labelled))\n",
    "# sklearn.model_selection.train_test_split() 과 동일\n",
    "\n",
    "clf = svm.SVC(kernel='linear')\n",
    "clf.fit(X[:cut_off], y[:cut_off])"
   ]
  },
  {
   "cell_type": "code",
   "execution_count": 16,
   "metadata": {},
   "outputs": [
    {
     "data": {
      "text/plain": [
       "(100.0, [])"
      ]
     },
     "execution_count": 16,
     "metadata": {},
     "output_type": "execute_result"
    }
   ],
   "source": [
    "res = clf.predict(X[cut_off:])\n",
    "all_predictions = clf.predict(model.vectors) # sin0 is deprecated\n",
    "missed = [country for (pred, truth, country) in\n",
    "         zip(res, y[cut_off:], labelled[cut_off:]) if pred != truth]\n",
    "\n",
    "100 - 100 * float(len(missed)) / len(res), missed"
   ]
  },
  {
   "cell_type": "code",
   "execution_count": 17,
   "metadata": {},
   "outputs": [
    {
     "data": {
      "text/plain": [
       "['Singapore',\n",
       " 'Bahrain',\n",
       " 'Myanmar',\n",
       " 'Norway',\n",
       " 'Netherlands',\n",
       " 'Indonesia',\n",
       " 'Denmark',\n",
       " 'abroad',\n",
       " 'Romania',\n",
       " 'Malta']"
      ]
     },
     "execution_count": 17,
     "metadata": {},
     "output_type": "execute_result"
    }
   ],
   "source": [
    "res = []\n",
    "for word, pred in zip(model.index2word, all_predictions):\n",
    "    if pred:\n",
    "        res.append(word)\n",
    "        if len(res) == 150:\n",
    "            break\n",
    "            \n",
    "random.sample(res, 10)"
   ]
  },
  {
   "cell_type": "markdown",
   "metadata": {},
   "source": [
    "## 항목 내에서 시맨틱 거리 계산"
   ]
  },
  {
   "cell_type": "code",
   "execution_count": 18,
   "metadata": {},
   "outputs": [
    {
     "data": {
      "text/plain": [
       "(44, 300)"
      ]
     },
     "execution_count": 18,
     "metadata": {},
     "output_type": "execute_result"
    }
   ],
   "source": [
    "countries = positive # SVM 분류기 셀을 실행해야 합니다\n",
    "\n",
    "country_to_idx = {country: idx for idx, country in enumerate(countries)}\n",
    "country_vecs = np.asarray([model[c] for c in countries])\n",
    "country_vecs.shape"
   ]
  },
  {
   "cell_type": "markdown",
   "metadata": {},
   "source": [
    "### 국가 간의 유사도 측정"
   ]
  },
  {
   "cell_type": "code",
   "execution_count": 19,
   "metadata": {},
   "outputs": [
    {
     "name": "stdout",
     "output_type": "stream",
     "text": [
      "South_Korea 10.420866\n",
      "Japan 6.323795\n",
      "China 5.28181\n",
      "Uruguay 5.0177574\n",
      "Malaysia 4.641665\n",
      "Ukraine 4.4588976\n",
      "Venezuela 4.363982\n",
      "Finland 4.3175664\n",
      "Czech_Republic 4.270298\n",
      "Lithuania 4.1437097\n"
     ]
    }
   ],
   "source": [
    "dists = np.dot(country_vecs,\n",
    "              country_vecs[country_to_idx['South_Korea']])\n",
    "for idx in reversed(np.argsort(dists)[-10:]):\n",
    "    print(countries[idx], dists[idx])"
   ]
  },
  {
   "cell_type": "markdown",
   "metadata": {},
   "source": [
    "### 국가와 용어 간의 유사도 측정"
   ]
  },
  {
   "cell_type": "code",
   "execution_count": 20,
   "metadata": {},
   "outputs": [],
   "source": [
    "def rank_countries(term, topn=10):\n",
    "    if not term in model:\n",
    "        return []\n",
    "    vec = model[term]\n",
    "    dists = np.dot(country_vecs, vec)\n",
    "    \n",
    "    return [(countries[idx], float(dists[idx]))\n",
    "           for idx in reversed(np.argsort(dists)[-topn:])]"
   ]
  },
  {
   "cell_type": "code",
   "execution_count": 21,
   "metadata": {},
   "outputs": [
    {
     "data": {
      "text/plain": [
       "[('South_Korea', 5.924840927124023),\n",
       " ('Japan', 3.862398862838745),\n",
       " ('China', 3.1807217597961426),\n",
       " ('Ukraine', 2.4729909896850586),\n",
       " ('Malaysia', 1.8567229509353638),\n",
       " ('Uruguay', 1.8567070960998535),\n",
       " ('Tunisia', 1.7421879768371582),\n",
       " ('Azerbaijan', 1.7076091766357422),\n",
       " ('Ethiopia', 1.5749425888061523),\n",
       " ('Italy', 1.5744032859802246)]"
      ]
     },
     "execution_count": 21,
     "metadata": {},
     "output_type": "execute_result"
    }
   ],
   "source": [
    "rank_countries('kimchi')"
   ]
  },
  {
   "cell_type": "markdown",
   "metadata": {},
   "source": [
    "## 국가 데이터를 지도로 시각화하기"
   ]
  },
  {
   "cell_type": "markdown",
   "metadata": {},
   "source": [
    "### GeoPandas를 사용해 지도 위에 시각화하기"
   ]
  },
  {
   "cell_type": "markdown",
   "metadata": {},
   "source": [
    "> GeoPandas 설치 오류로 추후 작성 예정"
   ]
  }
 ],
 "metadata": {
  "kernelspec": {
   "display_name": "Python [conda env:RNN]",
   "language": "python",
   "name": "conda-env-RNN-py"
  },
  "language_info": {
   "codemirror_mode": {
    "name": "ipython",
    "version": 3
   },
   "file_extension": ".py",
   "mimetype": "text/x-python",
   "name": "python",
   "nbconvert_exporter": "python",
   "pygments_lexer": "ipython3",
   "version": "3.6.6"
  },
  "toc": {
   "base_numbering": "3",
   "nav_menu": {},
   "number_sections": true,
   "sideBar": true,
   "skip_h1_title": false,
   "title_cell": "Table of Contents",
   "title_sidebar": "Contents",
   "toc_cell": false,
   "toc_position": {
    "height": "672.713px",
    "left": "1321.48px",
    "top": "145.685px",
    "width": "315.028px"
   },
   "toc_section_display": true,
   "toc_window_display": true
  }
 },
 "nbformat": 4,
 "nbformat_minor": 2
}
