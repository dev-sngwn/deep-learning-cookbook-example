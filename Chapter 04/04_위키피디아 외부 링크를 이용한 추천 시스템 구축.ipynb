{
 "cells": [
  {
   "cell_type": "markdown",
   "metadata": {},
   "source": [
    "# 위키피디아 외부 링크를 이용한 추천 시스템 구축"
   ]
  },
  {
   "cell_type": "code",
   "execution_count": 1,
   "metadata": {},
   "outputs": [
    {
     "name": "stderr",
     "output_type": "stream",
     "text": [
      "Using TensorFlow backend.\n"
     ]
    }
   ],
   "source": [
    "from bs4 import BeautifulSoup\n",
    "from urllib.request import urlretrieve\n",
    "import requests\n",
    "from keras.utils import get_file"
   ]
  },
  {
   "cell_type": "code",
   "execution_count": 2,
   "metadata": {},
   "outputs": [],
   "source": [
    "index = requests.get('https://dumps.wikimedia.org/enwiki/').text\n",
    "soup_index = BeautifulSoup(index, 'html.parser')\n",
    "dumps = [a['href'] for a in soup_index.find_all('a')\n",
    "        if a.has_attr('href') and a.text[:-1].isdigit()]"
   ]
  },
  {
   "cell_type": "code",
   "execution_count": 3,
   "metadata": {},
   "outputs": [
    {
     "name": "stdout",
     "output_type": "stream",
     "text": [
      "20190120/\n"
     ]
    }
   ],
   "source": [
    "for dump_url in sorted(dumps, reverse=True):\n",
    "    print(dump_url)\n",
    "    dump_html = index = requests.get('https://dumps.wikimedia.org/enwiki/' + dump_url).text\n",
    "    soup_dump = BeautifulSoup(dump_html, 'html.parser')\n",
    "    pages_xml = [a['href'] for a in soup_dump.find_all('a') \n",
    "                 if a.has_attr('href') and a['href'].endswith('-pages-articles.xml.bz2')]\n",
    "    if pages_xml:\n",
    "        break\n",
    "    time.sleep(0.8) # 위키피디아 접근 제한 방지"
   ]
  },
  {
   "cell_type": "code",
   "execution_count": null,
   "metadata": {},
   "outputs": [
    {
     "name": "stdout",
     "output_type": "stream",
     "text": [
      "Downloading data from https://dumps.wikimedia.org//enwiki/20190120/enwiki-20190120-pages-articles.xml.bz2\n",
      "   79855616/15800824122 [..............................] - ETA: 3:35:04"
     ]
    }
   ],
   "source": [
    "wikipedia_dump = pages_xml[0].rsplit('/')[-1]\n",
    "url = url = 'https://dumps.wikimedia.org/' + pages_xml[0] \n",
    "path = get_file(wikipedia_dump, url)\n",
    "path"
   ]
  },
  {
   "cell_type": "code",
   "execution_count": null,
   "metadata": {},
   "outputs": [],
   "source": [
    "class WikiXmlHandler(xml.sax.handler.ContentHandler):\n",
    "    def __init__(self):\n",
    "        xml.sax.handler.ContentHandler.__init__(self)\n",
    "        self._buffer = None\n",
    "        self._values = {}\n",
    "        self._movies = []\n",
    "        self._curent_tag = None\n",
    "\n",
    "    def characters(self, content):\n",
    "        if self._curent_tag:\n",
    "            self._buffer.append(content)\n",
    "\n",
    "    def startElement(self, name, attrs):\n",
    "        if name in ('title', 'text'):\n",
    "            self._curent_tag = name\n",
    "            self._buffer = []\n",
    "\n",
    "    def endElement(self, name):\n",
    "        if name == self._curent_tag:\n",
    "            self._values[name] = ' '.join(self._buffer)\n",
    "\n",
    "        if name == 'page':\n",
    "            movie = process_article(**self._values)\n",
    "            if movie:\n",
    "                self._movies.append(movie)"
   ]
  },
  {
   "cell_type": "code",
   "execution_count": null,
   "metadata": {},
   "outputs": [],
   "source": []
  }
 ],
 "metadata": {
  "kernelspec": {
   "display_name": "Python [conda env:RNN]",
   "language": "python",
   "name": "conda-env-RNN-py"
  },
  "language_info": {
   "codemirror_mode": {
    "name": "ipython",
    "version": 3
   },
   "file_extension": ".py",
   "mimetype": "text/x-python",
   "name": "python",
   "nbconvert_exporter": "python",
   "pygments_lexer": "ipython3",
   "version": "3.6.6"
  },
  "toc": {
   "base_numbering": "4",
   "nav_menu": {},
   "number_sections": true,
   "sideBar": true,
   "skip_h1_title": false,
   "title_cell": "Table of Contents",
   "title_sidebar": "Contents",
   "toc_cell": false,
   "toc_position": {
    "height": "672.713px",
    "left": "82.9886px",
    "top": "180px",
    "width": "349.091px"
   },
   "toc_section_display": true,
   "toc_window_display": true
  }
 },
 "nbformat": 4,
 "nbformat_minor": 2
}
